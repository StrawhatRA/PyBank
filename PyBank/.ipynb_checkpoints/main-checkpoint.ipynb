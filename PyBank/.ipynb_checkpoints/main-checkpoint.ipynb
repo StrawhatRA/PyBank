{
 "cells": [
  {
   "cell_type": "code",
   "execution_count": 120,
   "id": "babadf44-32dc-4219-a79e-4f62a12cac70",
   "metadata": {},
   "outputs": [
    {
     "data": {
      "text/plain": [
       "<bound method NDFrame._add_numeric_operations.<locals>.cumsum of 0          NaN\n",
       "1     116771.0\n",
       "2    -662642.0\n",
       "3    -391430.0\n",
       "4     379920.0\n",
       "        ...   \n",
       "81   -665765.0\n",
       "82    693229.0\n",
       "83   -734926.0\n",
       "84     77242.0\n",
       "85    532869.0\n",
       "Name: Profit/Losses, Length: 86, dtype: float64>"
      ]
     },
     "execution_count": 120,
     "metadata": {},
     "output_type": "execute_result"
    }
   ],
   "source": [
    "import pandas as pd\n",
    "from pathlib import Path\n",
    "\n",
    "csvpath = Path(\"budget_data.csv\")\n",
    "data_set = pd.read_csv(csvpath)\n",
    "total_months = len(data_set)\n",
    "total_funds = '${:.0f}'.format(data_set[\"Profit/Losses\"].sum())\n",
    "rolling_sum = data_set[\"Profit/Losses\"].diff()"
   ]
  },
  {
   "cell_type": "code",
   "execution_count": 118,
   "id": "552586c7-d3df-40b3-9433-4e394b33419b",
   "metadata": {},
   "outputs": [
    {
     "name": "stdout",
     "output_type": "stream",
     "text": [
      "Financial Analysis:\n",
      "---------------------\n",
      "Total Months: 86\n",
      "Total Funds: $38382578\n",
      "Average Change in Profit/Loss : 0          NaN\n",
      "1     116771.0\n",
      "2    -662642.0\n",
      "3    -391430.0\n",
      "4     379920.0\n",
      "        ...   \n",
      "81   -665765.0\n",
      "82    693229.0\n",
      "83   -734926.0\n",
      "84     77242.0\n",
      "85    532869.0\n",
      "Name: Profit/Losses, Length: 86, dtype: float64 \n"
     ]
    }
   ],
   "source": [
    "print(\"Financial Analysis:\")\n",
    "print(\"---------------------\")\n",
    "print(f\"Total Months: {total_months}\")\n",
    "print(f\"Total Funds: {total_funds}\")\n",
    "print(f\"Average Change in Profit/Loss : {rolling_sum} \")"
   ]
  },
  {
   "cell_type": "code",
   "execution_count": 110,
   "id": "78d7aa63-595b-4605-892d-dec09515757e",
   "metadata": {},
   "outputs": [
    {
     "ename": "TypeError",
     "evalue": "'WindowsPath' object is not subscriptable",
     "output_type": "error",
     "traceback": [
      "\u001b[1;31m---------------------------------------------------------------------------\u001b[0m",
      "\u001b[1;31mTypeError\u001b[0m                                 Traceback (most recent call last)",
      "\u001b[1;32m<ipython-input-110-3f25009f5918>\u001b[0m in \u001b[0;36m<module>\u001b[1;34m\u001b[0m\n\u001b[1;32m----> 1\u001b[1;33m \u001b[0mcsvpath\u001b[0m\u001b[1;33m[\u001b[0m\u001b[1;34m'profit/losses'\u001b[0m\u001b[1;33m]\u001b[0m \u001b[1;33m=\u001b[0m \u001b[0mcsvpath\u001b[0m\u001b[1;33m[\u001b[0m\u001b[1;34m'Profit/Losses'\u001b[0m\u001b[1;33m]\u001b[0m\u001b[1;33m.\u001b[0m\u001b[0mshift\u001b[0m\u001b[1;33m(\u001b[0m\u001b[1;36m1\u001b[0m\u001b[1;33m)\u001b[0m\u001b[1;33m\u001b[0m\u001b[1;33m\u001b[0m\u001b[0m\n\u001b[0m\u001b[0;32m      2\u001b[0m \u001b[0mcsvpath\u001b[0m\u001b[1;33m[\u001b[0m\u001b[1;34m'difference'\u001b[0m\u001b[1;33m]\u001b[0m \u001b[1;33m=\u001b[0m \u001b[0mcsvpath\u001b[0m\u001b[1;33m[\u001b[0m\u001b[1;34m'Profit/Losses'\u001b[0m\u001b[1;33m]\u001b[0m \u001b[1;33m-\u001b[0m \u001b[0mcsvpath\u001b[0m\u001b[1;33m[\u001b[0m\u001b[1;34m'Profit/Losses'\u001b[0m\u001b[1;33m]\u001b[0m\u001b[1;33m\u001b[0m\u001b[1;33m\u001b[0m\u001b[0m\n\u001b[0;32m      3\u001b[0m \u001b[0mcsvpath\u001b[0m\u001b[1;33m[\u001b[0m\u001b[1;34m'difference'\u001b[0m\u001b[1;33m]\u001b[0m \u001b[1;33m=\u001b[0m \u001b[0mcsvpath\u001b[0m\u001b[1;33m[\u001b[0m\u001b[1;34m'difference'\u001b[0m\u001b[1;33m]\u001b[0m\u001b[1;33m.\u001b[0m\u001b[0mabs\u001b[0m\u001b[1;33m(\u001b[0m\u001b[1;33m)\u001b[0m\u001b[1;33m\u001b[0m\u001b[1;33m\u001b[0m\u001b[0m\n",
      "\u001b[1;31mTypeError\u001b[0m: 'WindowsPath' object is not subscriptable"
     ]
    }
   ],
   "source": [
    "csvpath['profit/losses'] = csvpath['Profit/Losses'].shift(1)\n",
    "csvpath['difference'] = csvpath['Profit/Losses'] - csvpath['Profit/Losses']\n",
    "csvpath['difference'] = csvpath['difference'].abs()"
   ]
  },
  {
   "cell_type": "code",
   "execution_count": null,
   "id": "8f785905-3ab5-4009-9b12-3c9b5a47093b",
   "metadata": {},
   "outputs": [],
   "source": []
  },
  {
   "cell_type": "code",
   "execution_count": null,
   "id": "fc7dd037-8f94-4d38-9cea-770f65f84d2a",
   "metadata": {},
   "outputs": [],
   "source": []
  }
 ],
 "metadata": {
  "kernelspec": {
   "display_name": "Python 3",
   "language": "python",
   "name": "python3"
  },
  "language_info": {
   "codemirror_mode": {
    "name": "ipython",
    "version": 3
   },
   "file_extension": ".py",
   "mimetype": "text/x-python",
   "name": "python",
   "nbconvert_exporter": "python",
   "pygments_lexer": "ipython3",
   "version": "3.8.8"
  }
 },
 "nbformat": 4,
 "nbformat_minor": 5
}
