{
 "cells": [
  {
   "cell_type": "code",
   "execution_count": 52,
   "id": "52096d2d-0305-4880-b761-f78262921679",
   "metadata": {},
   "outputs": [
    {
     "name": "stdout",
     "output_type": "stream",
     "text": [
      "\n",
      "Financial Analysis\n",
      "----------------------------------\n",
      "\n",
      "Total Months:     86\n",
      "Total Revenue is: $38382578\n",
      "Average Change:   $532869.0\n"
     ]
    }
   ],
   "source": [
    "import os\n",
    "import csv\n",
    "\n",
    "budget_data = Path(r\"C:\\Users\\Straw Hat\\UTOR-VIRT-FIN-PT-11-2021-U-C\\02-Python\\Unit 2 Homework\\PyBank\\Resources\\budget_data.csv\")\n",
    "total_months = 0\n",
    "total_revenue = 0\n",
    "revenue = []\n",
    "previous_revenue = 0\n",
    "month_of_change = []\n",
    "revenue_change = 0\n",
    "greatest_decrease = [\"\", 9999999]\n",
    "greatest_increase = [\"\", 0]\n",
    "revenue_change_list = []\n",
    "revenue_average = 0\n",
    "\n",
    "with open(budget_data, \"r\") as csvfile:\n",
    "    csvreader = csv.DictReader(csvfile)\n",
    "    for row in csvreader:\n",
    "        total_months += 1\n",
    "        total_revenue = total_revenue + int(row[\"Profit/Losses\"])\n",
    "        revenue_change = float(row[\"Profit/Losses\"])- previous_revenue\n",
    "        previous_revenue = float(row[\"Profit/Losses\"])\n",
    "        revenue_change_list = revenue_change_list + [revenue_change]\n",
    "        month_of_change = [month_of_change] + [row[\"Date\"]]\n",
    "\n",
    "        \n",
    "print(f\"\\nFinancial Analysis\\n----------------------------------\\n\")\n",
    "print(f\"Total Months:     {total_months}\")\n",
    "print(f\"Total Revenue is: ${total_revenue}\")\n",
    "print(f\"Average Change:   ${revenue_change}\")"
   ]
  },
  {
   "cell_type": "code",
   "execution_count": null,
   "id": "189db7d2-819d-4a12-be7e-f3beb3677a5e",
   "metadata": {},
   "outputs": [],
   "source": []
  }
 ],
 "metadata": {
  "kernelspec": {
   "display_name": "Python 3",
   "language": "python",
   "name": "python3"
  },
  "language_info": {
   "codemirror_mode": {
    "name": "ipython",
    "version": 3
   },
   "file_extension": ".py",
   "mimetype": "text/x-python",
   "name": "python",
   "nbconvert_exporter": "python",
   "pygments_lexer": "ipython3",
   "version": "3.8.8"
  }
 },
 "nbformat": 4,
 "nbformat_minor": 5
}
